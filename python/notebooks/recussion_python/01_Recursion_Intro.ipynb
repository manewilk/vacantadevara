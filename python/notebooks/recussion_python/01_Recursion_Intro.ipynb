{
 "cells": [
  {
   "cell_type": "code",
   "execution_count": 2,
   "metadata": {},
   "outputs": [
    {
     "name": "stdout",
     "output_type": "stream",
     "text": [
      "Couldn't find program: 'bash'\n"
     ]
    }
   ],
   "source": [
    "%%bash\n",
    "ls -al"
   ]
  },
  {
   "cell_type": "markdown",
   "metadata": {},
   "source": [
    "### What is recursion?"
   ]
  },
  {
   "cell_type": "code",
   "execution_count": 3,
   "metadata": {},
   "outputs": [
    {
     "data": {
      "text/html": [
       "<img src=\"images/ingredients_recursive_II.png\" width=\"800\"/>"
      ],
      "text/plain": [
       "<IPython.core.display.Image object>"
      ]
     },
     "execution_count": 3,
     "metadata": {},
     "output_type": "execute_result"
    }
   ],
   "source": [
    "from IPython.display import Image\n",
    "# get the image\n",
    "Image(url=\"images/ingredients_recursive_II.png\", width=800)"
   ]
  },
  {
   "cell_type": "raw",
   "metadata": {},
   "source": [
    "# No base case, no movement towards base case.\n",
    "count = 1\n",
    "while True:\n",
    "    print(count)"
   ]
  },
  {
   "cell_type": "raw",
   "metadata": {},
   "source": [
    "# We have a base case, but no movement towards it.\n",
    "count = 1\n",
    "while True:\n",
    "    if count > 10:\n",
    "        break\n",
    "    print(count)"
   ]
  },
  {
   "cell_type": "code",
   "execution_count": 5,
   "metadata": {},
   "outputs": [
    {
     "name": "stdout",
     "output_type": "stream",
     "text": [
      "1\n",
      "2\n",
      "3\n",
      "4\n",
      "5\n",
      "6\n",
      "7\n",
      "8\n",
      "9\n",
      "10\n",
      "11\n",
      "12\n",
      "13\n",
      "14\n",
      "15\n",
      "16\n",
      "17\n",
      "18\n",
      "19\n",
      "20\n"
     ]
    }
   ],
   "source": [
    "# Base Case and movement towards it.\n",
    "count = 1\n",
    "while True:\n",
    "    if count > 20:\n",
    "        break\n",
    "    print(count)\n",
    "    count += 1 #shorthand count = count + 1"
   ]
  },
  {
   "cell_type": "markdown",
   "metadata": {},
   "source": [
    "### Recursion in Action - Iterative version"
   ]
  },
  {
   "cell_type": "code",
   "execution_count": 5,
   "metadata": {},
   "outputs": [],
   "source": [
    "def factorial_iterative_while(n):  # Condition-controlled version\n",
    "    pass\n",
    "## 5 * 4 * 3 *2 * 1\n"
   ]
  },
  {
   "cell_type": "code",
   "execution_count": 10,
   "metadata": {},
   "outputs": [],
   "source": [
    "def factorial_iterative_while(n):  # Condition-controlled version\n",
    "    result = 1\n",
    "    while n >= 1:\n",
    "        result *= n    ## result =  result * n\n",
    "        print(\"result-----\", result)\n",
    "        n -= 1\n",
    "        print(\"n----\",n)\n",
    "    return result "
   ]
  },
  {
   "cell_type": "code",
   "execution_count": 11,
   "metadata": {},
   "outputs": [
    {
     "name": "stdout",
     "output_type": "stream",
     "text": [
      "result----- 5\n",
      "n---- 4\n",
      "result----- 20\n",
      "n---- 3\n",
      "result----- 60\n",
      "n---- 2\n",
      "result----- 120\n",
      "n---- 1\n",
      "result----- 120\n",
      "n---- 0\n"
     ]
    },
    {
     "data": {
      "text/plain": [
       "120"
      ]
     },
     "execution_count": 11,
     "metadata": {},
     "output_type": "execute_result"
    }
   ],
   "source": [
    "factorial_iterative_while(5)"
   ]
  },
  {
   "cell_type": "code",
   "execution_count": null,
   "metadata": {},
   "outputs": [],
   "source": []
  },
  {
   "cell_type": "code",
   "execution_count": 14,
   "metadata": {},
   "outputs": [
    {
     "name": "stdout",
     "output_type": "stream",
     "text": [
      "result----- 4\n",
      "n---- 3\n",
      "result----- 12\n",
      "n---- 2\n",
      "result----- 24\n",
      "n---- 1\n",
      "result----- 24\n",
      "n---- 0\n",
      "result----- 6\n",
      "n---- 5\n",
      "result----- 30\n",
      "n---- 4\n",
      "result----- 120\n",
      "n---- 3\n",
      "result----- 360\n",
      "n---- 2\n",
      "result----- 720\n",
      "n---- 1\n",
      "result----- 720\n",
      "n---- 0\n",
      "result----- 1\n",
      "n---- 0\n",
      "result----- 50\n",
      "n---- 49\n",
      "result----- 2450\n",
      "n---- 48\n",
      "result----- 117600\n",
      "n---- 47\n",
      "result----- 5527200\n",
      "n---- 46\n",
      "result----- 254251200\n",
      "n---- 45\n",
      "result----- 11441304000\n",
      "n---- 44\n",
      "result----- 503417376000\n",
      "n---- 43\n",
      "result----- 21646947168000\n",
      "n---- 42\n",
      "result----- 909171781056000\n",
      "n---- 41\n",
      "result----- 37276043023296000\n",
      "n---- 40\n",
      "result----- 1491041720931840000\n",
      "n---- 39\n",
      "result----- 58150627116341760000\n",
      "n---- 38\n",
      "result----- 2209723830420986880000\n",
      "n---- 37\n",
      "result----- 81759781725576514560000\n",
      "n---- 36\n",
      "result----- 2943352142120754524160000\n",
      "n---- 35\n",
      "result----- 103017324974226408345600000\n",
      "n---- 34\n",
      "result----- 3502589049123697883750400000\n",
      "n---- 33\n",
      "result----- 115585438621082030163763200000\n",
      "n---- 32\n",
      "result----- 3698734035874624965240422400000\n",
      "n---- 31\n",
      "result----- 114660755112113373922453094400000\n",
      "n---- 30\n",
      "result----- 3439822653363401217673592832000000\n",
      "n---- 29\n",
      "result----- 99754856947538635312534192128000000\n",
      "n---- 28\n",
      "result----- 2793135994531081788750957379584000000\n",
      "n---- 27\n",
      "result----- 75414671852339208296275849248768000000\n",
      "n---- 26\n",
      "result----- 1960781468160819415703172080467968000000\n",
      "n---- 25\n",
      "result----- 49019536704020485392579302011699200000000\n",
      "n---- 24\n",
      "result----- 1176468880896491649421903248280780800000000\n",
      "n---- 23\n",
      "result----- 27058784260619307936703774710457958400000000\n",
      "n---- 22\n",
      "result----- 595293253733624774607483043630075084800000000\n",
      "n---- 21\n",
      "result----- 12501158328406120266757143916231576780800000000\n",
      "n---- 20\n",
      "result----- 250023166568122405335142878324631535616000000000\n",
      "n---- 19\n",
      "result----- 4750440164794325701367714688167999176704000000000\n",
      "n---- 18\n",
      "result----- 85507922966297862624618864387023985180672000000000\n",
      "n---- 17\n",
      "result----- 1453634690427063664618520694579407748071424000000000\n",
      "n---- 16\n",
      "result----- 23258155046833018633896331113270523969142784000000000\n",
      "n---- 15\n",
      "result----- 348872325702495279508444966699057859537141760000000000\n",
      "n---- 14\n",
      "result----- 4884212559834933913118229533786810033519984640000000000\n",
      "n---- 13\n",
      "result----- 63494763277854140870536983939228530435759800320000000000\n",
      "n---- 12\n",
      "result----- 761937159334249690446443807270742365229117603840000000000\n",
      "n---- 11\n",
      "result----- 8381308752676746594910881879978166017520293642240000000000\n",
      "n---- 10\n",
      "result----- 83813087526767465949108818799781660175202936422400000000000\n",
      "n---- 9\n",
      "result----- 754317787740907193541979369198034941576826427801600000000000\n",
      "n---- 8\n",
      "result----- 6034542301927257548335834953584279532614611422412800000000000\n",
      "n---- 7\n",
      "result----- 42241796113490802838350844675089956728302279956889600000000000\n",
      "n---- 6\n",
      "result----- 253450776680944817030105068050539740369813679741337600000000000\n",
      "n---- 5\n",
      "result----- 1267253883404724085150525340252698701849068398706688000000000000\n",
      "n---- 4\n",
      "result----- 5069015533618896340602101361010794807396273594826752000000000000\n",
      "n---- 3\n",
      "result----- 15207046600856689021806304083032384422188820784480256000000000000\n",
      "n---- 2\n",
      "result----- 30414093201713378043612608166064768844377641568960512000000000000\n",
      "n---- 1\n",
      "result----- 30414093201713378043612608166064768844377641568960512000000000000\n",
      "n---- 0\n"
     ]
    }
   ],
   "source": [
    "# Let's do some basic testing\n",
    "assert factorial_iterative_while(4) == 24\n",
    "assert factorial_iterative_while(6) == 720\n",
    "assert factorial_iterative_while(1) == 1\n",
    "assert factorial_iterative_while(0) == 1\n",
    "assert factorial_iterative_while(-7) == 1\n",
    "assert factorial_iterative_while(50) == 30414093201713378043612608166064768844377641568960512000000000000"
   ]
  },
  {
   "cell_type": "markdown",
   "metadata": {},
   "source": [
    "### Recursion in Action - recursive factorial function"
   ]
  },
  {
   "cell_type": "code",
   "execution_count": 16,
   "metadata": {},
   "outputs": [],
   "source": [
    "def factorial(n):\n",
    "    if n <= 1:\n",
    "    #Base Case\n",
    "        return 1\n",
    "    else:\n",
    "    #The Recursive Case\n",
    "        return n * factorial(n - 1)"
   ]
  },
  {
   "cell_type": "code",
   "execution_count": 18,
   "metadata": {},
   "outputs": [
    {
     "name": "stdout",
     "output_type": "stream",
     "text": [
      "120\n",
      "720\n",
      "1\n",
      "1\n",
      "1\n"
     ]
    }
   ],
   "source": [
    "print(factorial(5))\n",
    "print(factorial(6))\n",
    "print(factorial(1))\n",
    "print(factorial(0))\n",
    "print(factorial(-7))\n",
    "#print(factorial(1000))  # RecursionError: maximum recursion depth exceeded in comparison"
   ]
  },
  {
   "cell_type": "markdown",
   "metadata": {},
   "source": [
    "### Winding and UnWinding the Call Stack in Recursion"
   ]
  },
  {
   "cell_type": "code",
   "execution_count": 11,
   "metadata": {},
   "outputs": [],
   "source": [
    "from functools import wraps\n",
    "\n",
    "\n",
    "def trace(func):\n",
    "    # Store function name, for later use\n",
    "    func_name = func.__name__\n",
    "    separator = '|  '  # Used in trace display\n",
    "\n",
    "    # Set the current recursion depth\n",
    "    trace.recursion_depth = 0\n",
    "\n",
    "    @wraps(func)\n",
    "    def traced_func(*args, **kwargs):\n",
    "        # Display function call details\n",
    "        print(f'{separator * trace.recursion_depth}|*****> {func_name}({\", \".join(map(str, args))})')\n",
    "        # Begin recursing\n",
    "        trace.recursion_depth += 1   # trace.recursion_depth = trace.recursion_depth + 1\n",
    "        result = func(*args, **kwargs)\n",
    "        # Exit current level\n",
    "        trace.recursion_depth -= 1\n",
    "        # Display return value\n",
    "        print(f'{separator * (trace.recursion_depth + 1)}|---> return {result}')\n",
    "\n",
    "        return result\n",
    "\n",
    "    return traced_func\n"
   ]
  },
  {
   "cell_type": "code",
   "execution_count": 23,
   "metadata": {},
   "outputs": [
    {
     "name": "stdout",
     "output_type": "stream",
     "text": [
      "|*****> factorial(6)\n",
      "|  |*****> factorial(5)\n",
      "|  |  |*****> factorial(4)\n",
      "|  |  |  |*****> factorial(3)\n",
      "|  |  |  |  |*****> factorial(2)\n",
      "|  |  |  |  |  |*****> factorial(1)\n",
      "|  |  |  |  |  |  |---> return 1\n",
      "|  |  |  |  |  |---> return 2\n",
      "|  |  |  |  |---> return 6\n",
      "|  |  |  |---> return 24\n",
      "|  |  |---> return 120\n",
      "|  |---> return 720\n",
      "720\n"
     ]
    }
   ],
   "source": [
    "def factorial(n):\n",
    "    if n <= 1:\n",
    "        # Base case\n",
    "        return 1\n",
    "    else:\n",
    "        # Recursive case\n",
    "        return n * factorial(n - 1)\n",
    "\n",
    "\n",
    "factorial = trace(factorial)\n",
    "print(factorial(6))\n"
   ]
  },
  {
   "cell_type": "markdown",
   "metadata": {},
   "source": [
    "* What is the value of 6!? - 6 * 5 * 4 * 3 * 2 * 1 = 720\n",
    "* What do we return from the recursive factorial function if we are not at the base case? - `n * factorial(n - 1)`\n",
    "* The turnaround point between winding and unwinding in a recursive algorithm is `the base case`\n"
   ]
  },
  {
   "cell_type": "markdown",
   "metadata": {},
   "source": [
    "* Which law is missing from the Three Laws of Recursion? There must be a base case. The algorithm must approach the base case. - The algorithm must call itself, recursively."
   ]
  },
  {
   "cell_type": "markdown",
   "metadata": {},
   "source": [
    "### Fibonacci Numbers - Sequence"
   ]
  },
  {
   "cell_type": "code",
   "execution_count": 28,
   "metadata": {},
   "outputs": [
    {
     "data": {
      "text/html": [
       "<img src=\"images/golden_spiral.jpg\" width=\"600\"/>"
      ],
      "text/plain": [
       "<IPython.core.display.Image object>"
      ]
     },
     "execution_count": 28,
     "metadata": {},
     "output_type": "execute_result"
    }
   ],
   "source": [
    "Image(url=\"images/golden_spiral.jpg\", width=600)"
   ]
  },
  {
   "cell_type": "markdown",
   "metadata": {},
   "source": [
    "### Fibonacci Sequence - Iterative"
   ]
  },
  {
   "cell_type": "code",
   "execution_count": 28,
   "metadata": {},
   "outputs": [],
   "source": [
    "def fibonacci_iterative(n):\n",
    "    a, b = 0, 1\n",
    "    for i in range(n):\n",
    "        a, b = b, a + b ### Convinient SWAPING VARIABLES!!!\n",
    "        print(a, \"<------>\", b)\n",
    "    return a"
   ]
  },
  {
   "cell_type": "code",
   "execution_count": 29,
   "metadata": {},
   "outputs": [
    {
     "name": "stdout",
     "output_type": "stream",
     "text": [
      "1 <------> 1\n",
      "1 <------> 2\n",
      "2 <------> 3\n",
      "3 <------> 5\n",
      "5 <------> 8\n",
      "8 <------> 13\n",
      "13 <------> 21\n",
      "21 <------> 34\n",
      "34 <------> 55\n",
      "55 <------> 89\n",
      "55\n"
     ]
    }
   ],
   "source": [
    "print(fibonacci_iterative(10))"
   ]
  },
  {
   "cell_type": "code",
   "execution_count": null,
   "metadata": {},
   "outputs": [],
   "source": []
  },
  {
   "cell_type": "markdown",
   "metadata": {},
   "source": [
    "### Fibonacci Sequence - Recursive Function"
   ]
  },
  {
   "cell_type": "code",
   "execution_count": 20,
   "metadata": {},
   "outputs": [],
   "source": [
    "def fibonacci_recursive(n):\n",
    "    if  n < 2: ## Base Case --- different versions\n",
    "        return n\n",
    "    return fibonacci_recursive(n - 1) + fibonacci_recursive(n - 2)"
   ]
  },
  {
   "cell_type": "code",
   "execution_count": 21,
   "metadata": {},
   "outputs": [
    {
     "name": "stdout",
     "output_type": "stream",
     "text": [
      "5\n"
     ]
    }
   ],
   "source": [
    "print(fibonacci_recursive(5))"
   ]
  },
  {
   "cell_type": "code",
   "execution_count": 23,
   "metadata": {},
   "outputs": [
    {
     "name": "stdout",
     "output_type": "stream",
     "text": [
      "|*****> fibonacci_recursive(5)\n",
      "|  |*****> fibonacci_recursive(5)\n",
      "|  |  |*****> fibonacci_recursive(4)\n",
      "|  |  |  |*****> fibonacci_recursive(4)\n",
      "|  |  |  |  |*****> fibonacci_recursive(3)\n",
      "|  |  |  |  |  |*****> fibonacci_recursive(3)\n",
      "|  |  |  |  |  |  |*****> fibonacci_recursive(2)\n",
      "|  |  |  |  |  |  |  |*****> fibonacci_recursive(2)\n",
      "|  |  |  |  |  |  |  |  |*****> fibonacci_recursive(1)\n",
      "|  |  |  |  |  |  |  |  |  |*****> fibonacci_recursive(1)\n",
      "|  |  |  |  |  |  |  |  |  |  |---> return 1\n",
      "|  |  |  |  |  |  |  |  |  |---> return 1\n",
      "|  |  |  |  |  |  |  |  |*****> fibonacci_recursive(0)\n",
      "|  |  |  |  |  |  |  |  |  |*****> fibonacci_recursive(0)\n",
      "|  |  |  |  |  |  |  |  |  |  |---> return 0\n",
      "|  |  |  |  |  |  |  |  |  |---> return 0\n",
      "|  |  |  |  |  |  |  |  |---> return 1\n",
      "|  |  |  |  |  |  |  |---> return 1\n",
      "|  |  |  |  |  |  |*****> fibonacci_recursive(1)\n",
      "|  |  |  |  |  |  |  |*****> fibonacci_recursive(1)\n",
      "|  |  |  |  |  |  |  |  |---> return 1\n",
      "|  |  |  |  |  |  |  |---> return 1\n",
      "|  |  |  |  |  |  |---> return 2\n",
      "|  |  |  |  |  |---> return 2\n",
      "|  |  |  |  |*****> fibonacci_recursive(2)\n",
      "|  |  |  |  |  |*****> fibonacci_recursive(2)\n",
      "|  |  |  |  |  |  |*****> fibonacci_recursive(1)\n",
      "|  |  |  |  |  |  |  |*****> fibonacci_recursive(1)\n",
      "|  |  |  |  |  |  |  |  |---> return 1\n",
      "|  |  |  |  |  |  |  |---> return 1\n",
      "|  |  |  |  |  |  |*****> fibonacci_recursive(0)\n",
      "|  |  |  |  |  |  |  |*****> fibonacci_recursive(0)\n",
      "|  |  |  |  |  |  |  |  |---> return 0\n",
      "|  |  |  |  |  |  |  |---> return 0\n",
      "|  |  |  |  |  |  |---> return 1\n",
      "|  |  |  |  |  |---> return 1\n",
      "|  |  |  |  |---> return 3\n",
      "|  |  |  |---> return 3\n",
      "|  |  |*****> fibonacci_recursive(3)\n",
      "|  |  |  |*****> fibonacci_recursive(3)\n",
      "|  |  |  |  |*****> fibonacci_recursive(2)\n",
      "|  |  |  |  |  |*****> fibonacci_recursive(2)\n",
      "|  |  |  |  |  |  |*****> fibonacci_recursive(1)\n",
      "|  |  |  |  |  |  |  |*****> fibonacci_recursive(1)\n",
      "|  |  |  |  |  |  |  |  |---> return 1\n",
      "|  |  |  |  |  |  |  |---> return 1\n",
      "|  |  |  |  |  |  |*****> fibonacci_recursive(0)\n",
      "|  |  |  |  |  |  |  |*****> fibonacci_recursive(0)\n",
      "|  |  |  |  |  |  |  |  |---> return 0\n",
      "|  |  |  |  |  |  |  |---> return 0\n",
      "|  |  |  |  |  |  |---> return 1\n",
      "|  |  |  |  |  |---> return 1\n",
      "|  |  |  |  |*****> fibonacci_recursive(1)\n",
      "|  |  |  |  |  |*****> fibonacci_recursive(1)\n",
      "|  |  |  |  |  |  |---> return 1\n",
      "|  |  |  |  |  |---> return 1\n",
      "|  |  |  |  |---> return 2\n",
      "|  |  |  |---> return 2\n",
      "|  |  |---> return 5\n",
      "|  |---> return 5\n",
      "5\n"
     ]
    }
   ],
   "source": [
    "fibonacci_recursive = trace(fibonacci_recursive)\n",
    "print(fibonacci_recursive(5))"
   ]
  },
  {
   "cell_type": "code",
   "execution_count": null,
   "metadata": {},
   "outputs": [],
   "source": []
  },
  {
   "cell_type": "code",
   "execution_count": null,
   "metadata": {},
   "outputs": [],
   "source": []
  },
  {
   "cell_type": "code",
   "execution_count": null,
   "metadata": {},
   "outputs": [],
   "source": []
  },
  {
   "cell_type": "code",
   "execution_count": null,
   "metadata": {},
   "outputs": [],
   "source": []
  },
  {
   "cell_type": "code",
   "execution_count": 66,
   "metadata": {},
   "outputs": [
    {
     "data": {
      "text/html": [
       "<img src=\"images/golden_spiral_applications.jpg\" width=\"600\"/>"
      ],
      "text/plain": [
       "<IPython.core.display.Image object>"
      ]
     },
     "execution_count": 66,
     "metadata": {},
     "output_type": "execute_result"
    }
   ],
   "source": [
    "Image(url=\"images/golden_spiral_applications.jpg\", width=600)"
   ]
  },
  {
   "cell_type": "markdown",
   "metadata": {},
   "source": [
    "### Recursive SUM function for a `list`"
   ]
  },
  {
   "cell_type": "code",
   "execution_count": 38,
   "metadata": {},
   "outputs": [],
   "source": [
    "def list_sum(a_list):\n",
    "    result = 0\n",
    "    for val in a_list:\n",
    "        result += val\n",
    "    return result"
   ]
  },
  {
   "cell_type": "code",
   "execution_count": 39,
   "metadata": {},
   "outputs": [
    {
     "data": {
      "text/plain": [
       "[5, 7]"
      ]
     },
     "execution_count": 39,
     "metadata": {},
     "output_type": "execute_result"
    }
   ],
   "source": [
    "my_list = [2, 3, 5, 7]\n",
    "my_list[1:]\n",
    "my_list[2:]"
   ]
  },
  {
   "cell_type": "code",
   "execution_count": 41,
   "metadata": {},
   "outputs": [
    {
     "data": {
      "text/plain": [
       "26"
      ]
     },
     "execution_count": 41,
     "metadata": {},
     "output_type": "execute_result"
    }
   ],
   "source": [
    "list_sum([2, 3, 5, 7, 9])"
   ]
  },
  {
   "cell_type": "code",
   "execution_count": 51,
   "metadata": {},
   "outputs": [],
   "source": [
    "assert list_sum([2, 3, 5, 7]) == 17\n",
    "assert list_sum([-4, -3, -2, -1, 10]) == 0"
   ]
  },
  {
   "cell_type": "code",
   "execution_count": 26,
   "metadata": {},
   "outputs": [],
   "source": [
    "def list_sum_recursive(a_list):\n",
    "    if len(a_list) == 0:  ## 1] A base case\n",
    "        return 0\n",
    "    else:\n",
    "        #print(\"lista mea ---->\", a_list)\n",
    "        return a_list[0] + list_sum_recursive(a_list[1:])  # 2] Call itself "
   ]
  },
  {
   "cell_type": "code",
   "execution_count": 45,
   "metadata": {},
   "outputs": [
    {
     "name": "stdout",
     "output_type": "stream",
     "text": [
      "lista mea ----> [2, 3, 5, 7]\n",
      "lista mea ----> [3, 5, 7]\n",
      "lista mea ----> [5, 7]\n",
      "lista mea ----> [7]\n"
     ]
    },
    {
     "data": {
      "text/plain": [
       "17"
      ]
     },
     "execution_count": 45,
     "metadata": {},
     "output_type": "execute_result"
    }
   ],
   "source": [
    "list_sum_recursive([2, 3, 5, 7]) "
   ]
  },
  {
   "cell_type": "code",
   "execution_count": null,
   "metadata": {},
   "outputs": [],
   "source": []
  },
  {
   "cell_type": "code",
   "execution_count": 46,
   "metadata": {},
   "outputs": [
    {
     "name": "stdout",
     "output_type": "stream",
     "text": [
      "lista mea ----> [2, 3, 5, 7]\n",
      "lista mea ----> [3, 5, 7]\n",
      "lista mea ----> [5, 7]\n",
      "lista mea ----> [7]\n",
      "lista mea ----> [-4, -3, -2, -1, 10]\n",
      "lista mea ----> [-3, -2, -1, 10]\n",
      "lista mea ----> [-2, -1, 10]\n",
      "lista mea ----> [-1, 10]\n",
      "lista mea ----> [10]\n",
      "lista mea ----> [3]\n",
      "lista mea ----> [-5, -3]\n",
      "lista mea ----> [-3]\n"
     ]
    }
   ],
   "source": [
    "assert list_sum_recursive([2, 3, 5, 7]) == 17\n",
    "assert list_sum_recursive([-4, -3, -2, -1, 10]) == 0\n",
    "assert list_sum_recursive([]) == 0\n",
    "assert list_sum_recursive([3]) == 3\n",
    "assert list_sum_recursive([-5, -3]) == -8"
   ]
  },
  {
   "cell_type": "markdown",
   "metadata": {},
   "source": [
    "### Questions\n",
    "* To calculate the nth Fibonacci (F(n)) number, we need to `add F(n-1) and F(n-2)`\n",
    "* How do we use Python list *slicing* to get a new list containing everything but the first element of an existing list `my_list[1:]`"
   ]
  },
  {
   "cell_type": "code",
   "execution_count": 28,
   "metadata": {},
   "outputs": [
    {
     "name": "stdout",
     "output_type": "stream",
     "text": [
      "|*****> list_sum_recursive([2, 3, 5, 7, 8, 9, 12])\n",
      "|  |*****> list_sum_recursive([2, 3, 5, 7, 8, 9, 12])\n",
      "|  |  |*****> list_sum_recursive([3, 5, 7, 8, 9, 12])\n",
      "|  |  |  |*****> list_sum_recursive([3, 5, 7, 8, 9, 12])\n",
      "|  |  |  |  |*****> list_sum_recursive([5, 7, 8, 9, 12])\n",
      "|  |  |  |  |  |*****> list_sum_recursive([5, 7, 8, 9, 12])\n",
      "|  |  |  |  |  |  |*****> list_sum_recursive([7, 8, 9, 12])\n",
      "|  |  |  |  |  |  |  |*****> list_sum_recursive([7, 8, 9, 12])\n",
      "|  |  |  |  |  |  |  |  |*****> list_sum_recursive([8, 9, 12])\n",
      "|  |  |  |  |  |  |  |  |  |*****> list_sum_recursive([8, 9, 12])\n",
      "|  |  |  |  |  |  |  |  |  |  |*****> list_sum_recursive([9, 12])\n",
      "|  |  |  |  |  |  |  |  |  |  |  |*****> list_sum_recursive([9, 12])\n",
      "|  |  |  |  |  |  |  |  |  |  |  |  |*****> list_sum_recursive([12])\n",
      "|  |  |  |  |  |  |  |  |  |  |  |  |  |*****> list_sum_recursive([12])\n",
      "|  |  |  |  |  |  |  |  |  |  |  |  |  |  |*****> list_sum_recursive([])\n",
      "|  |  |  |  |  |  |  |  |  |  |  |  |  |  |  |*****> list_sum_recursive([])\n",
      "|  |  |  |  |  |  |  |  |  |  |  |  |  |  |  |  |---> return 0\n",
      "|  |  |  |  |  |  |  |  |  |  |  |  |  |  |  |---> return 0\n",
      "|  |  |  |  |  |  |  |  |  |  |  |  |  |  |---> return 12\n",
      "|  |  |  |  |  |  |  |  |  |  |  |  |  |---> return 12\n",
      "|  |  |  |  |  |  |  |  |  |  |  |  |---> return 21\n",
      "|  |  |  |  |  |  |  |  |  |  |  |---> return 21\n",
      "|  |  |  |  |  |  |  |  |  |  |---> return 29\n",
      "|  |  |  |  |  |  |  |  |  |---> return 29\n",
      "|  |  |  |  |  |  |  |  |---> return 36\n",
      "|  |  |  |  |  |  |  |---> return 36\n",
      "|  |  |  |  |  |  |---> return 41\n",
      "|  |  |  |  |  |---> return 41\n",
      "|  |  |  |  |---> return 44\n",
      "|  |  |  |---> return 44\n",
      "|  |  |---> return 46\n",
      "|  |---> return 46\n",
      "46\n"
     ]
    }
   ],
   "source": [
    "list_sum_recursive = trace(list_sum_recursive)\n",
    "print(list_sum_recursive([2, 3, 5, 7, 8, 9, 12]))"
   ]
  },
  {
   "cell_type": "code",
   "execution_count": null,
   "metadata": {},
   "outputs": [],
   "source": []
  },
  {
   "cell_type": "code",
   "execution_count": null,
   "metadata": {},
   "outputs": [],
   "source": []
  }
 ],
 "metadata": {
  "kernelspec": {
   "display_name": "Python 3",
   "language": "python",
   "name": "python3"
  },
  "language_info": {
   "codemirror_mode": {
    "name": "ipython",
    "version": 3
   },
   "file_extension": ".py",
   "mimetype": "text/x-python",
   "name": "python",
   "nbconvert_exporter": "python",
   "pygments_lexer": "ipython3",
   "version": "3.8.3"
  }
 },
 "nbformat": 4,
 "nbformat_minor": 5
}
