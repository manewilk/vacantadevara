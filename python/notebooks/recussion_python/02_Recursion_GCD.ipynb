{
 "cells": [
  {
   "cell_type": "code",
   "execution_count": null,
   "metadata": {},
   "outputs": [],
   "source": []
  },
  {
   "cell_type": "markdown",
   "metadata": {},
   "source": [
    "### Recursion in Action - GCD of two integers (numbers)"
   ]
  },
  {
   "cell_type": "code",
   "execution_count": null,
   "metadata": {},
   "outputs": [],
   "source": []
  },
  {
   "cell_type": "code",
   "execution_count": 1,
   "metadata": {},
   "outputs": [
    {
     "data": {
      "text/html": [
       "<img src=\"images/GCF.png\" width=\"350\"/>"
      ],
      "text/plain": [
       "<IPython.core.display.Image object>"
      ]
     },
     "execution_count": 1,
     "metadata": {},
     "output_type": "execute_result"
    }
   ],
   "source": [
    "from IPython.display import Image\n",
    "# get the image\n",
    "Image(url=\"images/GCF.png\", width=350)"
   ]
  },
  {
   "cell_type": "code",
   "execution_count": 2,
   "metadata": {},
   "outputs": [
    {
     "data": {
      "text/html": [
       "<img src=\"images/GCF_02.png\" width=\"400\"/>"
      ],
      "text/plain": [
       "<IPython.core.display.Image object>"
      ]
     },
     "execution_count": 2,
     "metadata": {},
     "output_type": "execute_result"
    }
   ],
   "source": [
    "Image(url=\"images/GCF_02.png\", width=400)"
   ]
  },
  {
   "cell_type": "code",
   "execution_count": 3,
   "metadata": {},
   "outputs": [
    {
     "data": {
      "text/html": [
       "<img src=\"images/Euclids_algorithm_Book_VII_Proposition_2_3.png\" width=\"300\"/>"
      ],
      "text/plain": [
       "<IPython.core.display.Image object>"
      ]
     },
     "execution_count": 3,
     "metadata": {},
     "output_type": "execute_result"
    }
   ],
   "source": [
    "Image(url=\"images/Euclids_algorithm_Book_VII_Proposition_2_3.png\", width=300)"
   ]
  },
  {
   "cell_type": "code",
   "execution_count": 4,
   "metadata": {},
   "outputs": [],
   "source": [
    "def gcd_recursive(a, b):\n",
    "    if b == 0:\n",
    "        ##Base Case\n",
    "        return a\n",
    "    else:\n",
    "        #Recursive Case\n",
    "        return gcd_recursive(b, a%b)"
   ]
  },
  {
   "cell_type": "code",
   "execution_count": 5,
   "metadata": {},
   "outputs": [
    {
     "name": "stdout",
     "output_type": "stream",
     "text": [
      "4\n",
      "5\n",
      "14\n",
      "14\n",
      "1\n"
     ]
    }
   ],
   "source": [
    "print(gcd_recursive(32, 12))  # From slides\n",
    "print(gcd_recursive(50, 15))\n",
    "print(gcd_recursive(42, 28))\n",
    "print(gcd_recursive(28, 42))\n",
    "print(gcd_recursive(345, 766))  # Co-prime"
   ]
  },
  {
   "cell_type": "code",
   "execution_count": 6,
   "metadata": {},
   "outputs": [
    {
     "ename": "NameError",
     "evalue": "name 'trace' is not defined",
     "output_type": "error",
     "traceback": [
      "\u001b[1;31m---------------------------------------------------------------------------\u001b[0m",
      "\u001b[1;31mNameError\u001b[0m                                 Traceback (most recent call last)",
      "\u001b[1;32m<ipython-input-6-ad6842036a20>\u001b[0m in \u001b[0;36m<module>\u001b[1;34m\u001b[0m\n\u001b[1;32m----> 1\u001b[1;33m \u001b[0mgcd_recursive\u001b[0m \u001b[1;33m=\u001b[0m \u001b[0mtrace\u001b[0m\u001b[1;33m(\u001b[0m\u001b[0mgcd_recursive\u001b[0m\u001b[1;33m)\u001b[0m\u001b[1;33m\u001b[0m\u001b[1;33m\u001b[0m\u001b[0m\n\u001b[0m\u001b[0;32m      2\u001b[0m \u001b[0mprint\u001b[0m\u001b[1;33m(\u001b[0m\u001b[0mgcd_recursive\u001b[0m\u001b[1;33m(\u001b[0m\u001b[1;36m32\u001b[0m\u001b[1;33m,\u001b[0m \u001b[1;36m12\u001b[0m\u001b[1;33m)\u001b[0m\u001b[1;33m)\u001b[0m\u001b[1;33m\u001b[0m\u001b[1;33m\u001b[0m\u001b[0m\n\u001b[0;32m      3\u001b[0m \u001b[1;31m#print(gcd_recursive(50, 15))\u001b[0m\u001b[1;33m\u001b[0m\u001b[1;33m\u001b[0m\u001b[1;33m\u001b[0m\u001b[0m\n\u001b[0;32m      4\u001b[0m \u001b[1;31m#print(gcd_recursive(345, 766))\u001b[0m\u001b[1;33m\u001b[0m\u001b[1;33m\u001b[0m\u001b[1;33m\u001b[0m\u001b[0m\n\u001b[0;32m      5\u001b[0m \u001b[1;31m#print(gcd_recursive(28, 42))\u001b[0m\u001b[1;33m\u001b[0m\u001b[1;33m\u001b[0m\u001b[1;33m\u001b[0m\u001b[0m\n",
      "\u001b[1;31mNameError\u001b[0m: name 'trace' is not defined"
     ]
    }
   ],
   "source": [
    "gcd_recursive = trace(gcd_recursive)\n",
    "print(gcd_recursive(32, 12))\n",
    "#print(gcd_recursive(50, 15))\n",
    "#print(gcd_recursive(345, 766))\n",
    "#print(gcd_recursive(28, 42))\n",
    "#print(gcd_recursive(12, 6))"
   ]
  },
  {
   "cell_type": "code",
   "execution_count": null,
   "metadata": {},
   "outputs": [],
   "source": []
  },
  {
   "cell_type": "code",
   "execution_count": null,
   "metadata": {},
   "outputs": [],
   "source": []
  },
  {
   "cell_type": "code",
   "execution_count": null,
   "metadata": {},
   "outputs": [],
   "source": []
  },
  {
   "cell_type": "code",
   "execution_count": null,
   "metadata": {},
   "outputs": [],
   "source": []
  },
  {
   "cell_type": "code",
   "execution_count": 7,
   "metadata": {},
   "outputs": [
    {
     "data": {
      "text/html": [
       "<img src=\"images/nzdrekurzeng_orig.png\" width=\"400\"/>"
      ],
      "text/plain": [
       "<IPython.core.display.Image object>"
      ]
     },
     "execution_count": 7,
     "metadata": {},
     "output_type": "execute_result"
    }
   ],
   "source": [
    "Image(url=\"images/nzdrekurzeng_orig.png\", width=400)"
   ]
  },
  {
   "cell_type": "markdown",
   "metadata": {},
   "source": [
    "### Recursion in Action - Multiplication"
   ]
  },
  {
   "cell_type": "code",
   "execution_count": 8,
   "metadata": {},
   "outputs": [],
   "source": [
    "def multiply_recursive(n, a):\n",
    "    if n == 1:\n",
    "        return a\n",
    "    else:\n",
    "        return a + multiply_recursive(n-1, a)"
   ]
  },
  {
   "cell_type": "code",
   "execution_count": 9,
   "metadata": {},
   "outputs": [],
   "source": [
    "assert multiply_recursive(5, 4) == 20  # 5 is the multiplier, 4 is the multiplicand\n",
    "assert multiply_recursive(5, -4) == -20  # 5 is the multiplier, -4 is the multiplicand\n",
    "assert multiply_recursive(1, 4) == 4  # 1 is the multiplier, 4 is the multiplicand\n",
    "assert multiply_recursive(7, 8) == 56  # 7 is the multiplier, 8 is the multiplicand"
   ]
  },
  {
   "cell_type": "code",
   "execution_count": 10,
   "metadata": {},
   "outputs": [
    {
     "ename": "NameError",
     "evalue": "name 'trace' is not defined",
     "output_type": "error",
     "traceback": [
      "\u001b[1;31m---------------------------------------------------------------------------\u001b[0m",
      "\u001b[1;31mNameError\u001b[0m                                 Traceback (most recent call last)",
      "\u001b[1;32m<ipython-input-10-6e0368c05dff>\u001b[0m in \u001b[0;36m<module>\u001b[1;34m\u001b[0m\n\u001b[1;32m----> 1\u001b[1;33m \u001b[0mmultiply_recursive\u001b[0m \u001b[1;33m=\u001b[0m \u001b[0mtrace\u001b[0m\u001b[1;33m(\u001b[0m\u001b[0mmultiply_recursive\u001b[0m\u001b[1;33m)\u001b[0m\u001b[1;33m\u001b[0m\u001b[1;33m\u001b[0m\u001b[0m\n\u001b[0m\u001b[0;32m      2\u001b[0m \u001b[0mmultiply_recursive\u001b[0m\u001b[1;33m(\u001b[0m\u001b[1;36m7\u001b[0m\u001b[1;33m,\u001b[0m \u001b[1;36m8\u001b[0m\u001b[1;33m)\u001b[0m\u001b[1;33m\u001b[0m\u001b[1;33m\u001b[0m\u001b[0m\n\u001b[0;32m      3\u001b[0m \u001b[1;31m#multiply_recursive(1, 4)\u001b[0m\u001b[1;33m\u001b[0m\u001b[1;33m\u001b[0m\u001b[1;33m\u001b[0m\u001b[0m\n",
      "\u001b[1;31mNameError\u001b[0m: name 'trace' is not defined"
     ]
    }
   ],
   "source": [
    "multiply_recursive = trace(multiply_recursive)\n",
    "multiply_recursive(7, 8)\n",
    "#multiply_recursive(1, 4)"
   ]
  },
  {
   "cell_type": "markdown",
   "metadata": {},
   "source": [
    "### Recursion in Action - Exponentiation"
   ]
  },
  {
   "cell_type": "markdown",
   "metadata": {},
   "source": [
    "#### Exponentiation - Ieterative"
   ]
  },
  {
   "cell_type": "code",
   "execution_count": 11,
   "metadata": {},
   "outputs": [],
   "source": [
    "def exp_iterative(a, n):\n",
    "    base = a\n",
    "    for i in range(n-1):\n",
    "        a *= base\n",
    "    return a"
   ]
  },
  {
   "cell_type": "code",
   "execution_count": null,
   "metadata": {},
   "outputs": [],
   "source": []
  },
  {
   "cell_type": "code",
   "execution_count": null,
   "metadata": {},
   "outputs": [],
   "source": []
  },
  {
   "cell_type": "code",
   "execution_count": 59,
   "metadata": {},
   "outputs": [],
   "source": [
    "assert exp_iterative(5, 3) == 125\n",
    "assert exp_iterative(2, 4) == 16\n",
    "assert exp_iterative(1, 19) == 1\n",
    "assert exp_iterative(0, 2) == 0"
   ]
  },
  {
   "cell_type": "markdown",
   "metadata": {},
   "source": [
    "#### Exponentiation - Recursive"
   ]
  },
  {
   "cell_type": "code",
   "execution_count": 52,
   "metadata": {},
   "outputs": [],
   "source": [
    "def exp_recursive(a, n):\n",
    "    if n == 1:\n",
    "        return a\n",
    "    else:\n",
    "        return a * exp_recursive(a, n-1)"
   ]
  },
  {
   "cell_type": "code",
   "execution_count": 53,
   "metadata": {},
   "outputs": [],
   "source": [
    "assert exp_recursive(5, 3) == 125\n",
    "assert exp_recursive(2, 4) == 16\n",
    "assert exp_recursive(1, 19) == 1\n",
    "assert exp_recursive(0, 2) == 0"
   ]
  },
  {
   "cell_type": "code",
   "execution_count": 55,
   "metadata": {},
   "outputs": [
    {
     "name": "stdout",
     "output_type": "stream",
     "text": [
      "|~~~> exp_recursive(5, 3)\n",
      "|  |~~~> exp_recursive(5, 2)\n",
      "|  |  |~~~> exp_recursive(5, 1)\n",
      "|  |  |  |---> return 5\n",
      "|  |  |---> return 25\n",
      "|  |---> return 125\n"
     ]
    },
    {
     "data": {
      "text/plain": [
       "125"
      ]
     },
     "execution_count": 55,
     "metadata": {},
     "output_type": "execute_result"
    }
   ],
   "source": [
    "exp_recursive = trace(exp_recursive)\n",
    "exp_recursive(5, 3)"
   ]
  },
  {
   "cell_type": "code",
   "execution_count": null,
   "metadata": {},
   "outputs": [],
   "source": []
  },
  {
   "cell_type": "markdown",
   "metadata": {},
   "source": [
    "### Recursion in Action - Length of a String"
   ]
  },
  {
   "cell_type": "markdown",
   "metadata": {},
   "source": [
    "#### Iterative Way "
   ]
  },
  {
   "cell_type": "code",
   "execution_count": 14,
   "metadata": {},
   "outputs": [],
   "source": [
    "string1 = \"lorem\"\n",
    "string2 = \"What we do in life, echoes an eternity!\""
   ]
  },
  {
   "cell_type": "code",
   "execution_count": 15,
   "metadata": {},
   "outputs": [],
   "source": [
    "def iterative_str_len(a_str): ## ACUMULATOR PATTERN!!\n",
    "    result = 0\n",
    "    for i in a_str:\n",
    "        result += 1\n",
    "    return result\n",
    "    "
   ]
  },
  {
   "cell_type": "code",
   "execution_count": 16,
   "metadata": {},
   "outputs": [
    {
     "name": "stdout",
     "output_type": "stream",
     "text": [
      "16\n",
      "16\n"
     ]
    }
   ],
   "source": [
    "input_str = \"I love recursion\"\n",
    "print(len(input_str))  # Standard Pythonic way\n",
    "print(iterative_str_len(input_str))"
   ]
  },
  {
   "cell_type": "markdown",
   "metadata": {},
   "source": [
    "#### Recursive Way "
   ]
  },
  {
   "cell_type": "code",
   "execution_count": 17,
   "metadata": {},
   "outputs": [],
   "source": [
    "def recursive_str_len(a_str):\n",
    "    if a_str == \"\":\n",
    "        return 0\n",
    "    else:\n",
    "        return 1 + recursive_str_len(a_str[:-1])\n",
    "        #return 1 + recursive_str_len(a_str[1:])"
   ]
  },
  {
   "cell_type": "code",
   "execution_count": 18,
   "metadata": {},
   "outputs": [
    {
     "name": "stdout",
     "output_type": "stream",
     "text": [
      "16\n",
      "16\n"
     ]
    }
   ],
   "source": [
    "input_str = \"I love recursion\"\n",
    "print(len(input_str))  # Standard Pythonic way\n",
    "print(recursive_str_len(input_str))"
   ]
  },
  {
   "cell_type": "code",
   "execution_count": 19,
   "metadata": {},
   "outputs": [
    {
     "name": "stdout",
     "output_type": "stream",
     "text": [
      "|~~~> recursive_str_len(lorem)\n",
      "|  |~~~> recursive_str_len(lore)\n",
      "|  |  |~~~> recursive_str_len(lor)\n",
      "|  |  |  |~~~> recursive_str_len(lo)\n",
      "|  |  |  |  |~~~> recursive_str_len(l)\n",
      "|  |  |  |  |  |~~~> recursive_str_len()\n",
      "|  |  |  |  |  |  |---> return 0\n",
      "|  |  |  |  |  |---> return 1\n",
      "|  |  |  |  |---> return 2\n",
      "|  |  |  |---> return 3\n",
      "|  |  |---> return 4\n",
      "|  |---> return 5\n"
     ]
    },
    {
     "data": {
      "text/plain": [
       "5"
      ]
     },
     "execution_count": 19,
     "metadata": {},
     "output_type": "execute_result"
    }
   ],
   "source": [
    "recursive_str_len = trace(recursive_str_len)\n",
    "recursive_str_len(string1)"
   ]
  },
  {
   "cell_type": "code",
   "execution_count": 77,
   "metadata": {},
   "outputs": [],
   "source": [
    "#recursive_str_len = trace(recursive_str_len)\n",
    "#recursive_str_len(string2)"
   ]
  },
  {
   "cell_type": "code",
   "execution_count": null,
   "metadata": {},
   "outputs": [],
   "source": []
  },
  {
   "cell_type": "code",
   "execution_count": null,
   "metadata": {},
   "outputs": [],
   "source": []
  },
  {
   "cell_type": "code",
   "execution_count": 4,
   "metadata": {},
   "outputs": [],
   "source": [
    "from functools import wraps\n",
    "\n",
    "\n",
    "def trace(func):\n",
    "    # Store function name, for later use\n",
    "    func_name = func.__name__\n",
    "    separator = '|  '  # Used in trace display\n",
    "\n",
    "    # Set the current recursion depth\n",
    "    trace.recursion_depth = 0\n",
    "\n",
    "    @wraps(func)\n",
    "    def traced_func(*args, **kwargs):\n",
    "        # Display function call details\n",
    "        print(f'{separator * trace.recursion_depth}|~~~> {func_name}({\", \".join(map(str, args))})')\n",
    "        # Begin recursing\n",
    "        trace.recursion_depth += 1\n",
    "        result = func(*args, **kwargs)\n",
    "        # Exit current level\n",
    "        trace.recursion_depth -= 1\n",
    "        # Display return value\n",
    "        print(f'{separator * (trace.recursion_depth + 1)}|---> return {result}')\n",
    "\n",
    "        return result\n",
    "\n",
    "    return traced_func\n"
   ]
  },
  {
   "cell_type": "code",
   "execution_count": null,
   "metadata": {},
   "outputs": [],
   "source": []
  },
  {
   "cell_type": "code",
   "execution_count": null,
   "metadata": {},
   "outputs": [],
   "source": []
  }
 ],
 "metadata": {
  "kernelspec": {
   "display_name": "Python 3",
   "language": "python",
   "name": "python3"
  },
  "language_info": {
   "codemirror_mode": {
    "name": "ipython",
    "version": 3
   },
   "file_extension": ".py",
   "mimetype": "text/x-python",
   "name": "python",
   "nbconvert_exporter": "python",
   "pygments_lexer": "ipython3",
   "version": "3.8.3"
  }
 },
 "nbformat": 4,
 "nbformat_minor": 5
}
