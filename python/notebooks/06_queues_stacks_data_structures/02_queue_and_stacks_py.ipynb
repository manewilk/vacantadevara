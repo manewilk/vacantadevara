{
 "cells": [
  {
   "cell_type": "code",
   "execution_count": 1,
   "metadata": {},
   "outputs": [],
   "source": [
    "class Stack:\n",
    "\n",
    "    def __init__(self):\n",
    "        self.items = []\n",
    "\n",
    "    def push(self, item):\n",
    "        \"\"\"Accepts an item as a parameter and appends it to the end of the list.\n",
    "        Returns nothing.\n",
    "\n",
    "        The runtime for this method is O(1), or constant time, because appending\n",
    "        to the end of a list happens in constant time.\n",
    "        \"\"\"\n",
    "\n",
    "        self.items.append(item)\n",
    "\n",
    "    def pop(self):\n",
    "        \"\"\"Removes and returns the last item for the list, which is also the\n",
    "        top item of the Stack.\n",
    "\n",
    "        The runtime here is constant time, because all it does is index to the\n",
    "        last item of the list.\n",
    "        \"\"\"\n",
    "        if self.items:\n",
    "            return self.items.pop()\n",
    "\n",
    "        return None\n",
    "\n",
    "    def peek(self):\n",
    "        \"\"\"This method returns the last item in the list, which is also the item\n",
    "        at the top of the Stack.\n",
    "\n",
    "        This method runs in constant time because indexing into a list is done\n",
    "        in constant time.\"\"\"\n",
    "\n",
    "\n",
    "        if self.items:\n",
    "            return self.items[-1]\n",
    "        return None\n",
    "\n",
    "    def size(self):\n",
    "        \"\"\"This method returns the length of the list that is representing the\n",
    "        Stack.\n",
    "\n",
    "        This method runs in constant time because finding the length of a list\n",
    "        also in constant time.\n",
    "        \"\"\"\n",
    "\n",
    "        return len(self.items)\n",
    "\n",
    "    def is_empty(self):\n",
    "        \"\"\"This method returns a Boolean value describing whether or not the\n",
    "        Stack is empty.\n",
    "\n",
    "        Testing for equality happens in constant time.\n",
    "        \"\"\"\n",
    "\n",
    "        return self.items == []\n"
   ]
  },
  {
   "cell_type": "code",
   "execution_count": null,
   "metadata": {},
   "outputs": [],
   "source": []
  },
  {
   "cell_type": "code",
   "execution_count": null,
   "metadata": {},
   "outputs": [],
   "source": []
  },
  {
   "cell_type": "code",
   "execution_count": null,
   "metadata": {},
   "outputs": [],
   "source": []
  },
  {
   "cell_type": "code",
   "execution_count": 3,
   "metadata": {},
   "outputs": [
    {
     "name": "stdout",
     "output_type": "stream",
     "text": [
      "['apple']\n"
     ]
    }
   ],
   "source": [
    "my_stack = Stack()\n",
    "my_stack.push('apple')\n",
    "print(my_stack.items)\n",
    "my_stack.push('banana')\n",
    "#my_stack.items"
   ]
  },
  {
   "cell_type": "code",
   "execution_count": null,
   "metadata": {},
   "outputs": [],
   "source": []
  },
  {
   "cell_type": "code",
   "execution_count": null,
   "metadata": {},
   "outputs": [],
   "source": []
  },
  {
   "cell_type": "code",
   "execution_count": null,
   "metadata": {},
   "outputs": [],
   "source": []
  },
  {
   "cell_type": "code",
   "execution_count": null,
   "metadata": {},
   "outputs": [],
   "source": []
  },
  {
   "cell_type": "code",
   "execution_count": 4,
   "metadata": {},
   "outputs": [],
   "source": [
    "class Queue:\n",
    "\n",
    "    def __init__(self):\n",
    "        self.items = []\n",
    "\n",
    "    def enqueue(self, item):\n",
    "        \"\"\"Takes in an item and inserts that item into the 0th index of the list\n",
    "        that is representing the Queue.\n",
    "\n",
    "        The runtime is O(n), or linear time, because inserting into the 0th\n",
    "        index of a list forces all the other items in the list to move one index\n",
    "        to the right.\n",
    "        \"\"\"\n",
    "        self.items.insert(0, item)\n",
    "\n",
    "    def dequeue(self):\n",
    "        \"\"\"Returns and removes the front-most item of the Queue, which is\n",
    "        represented by the last item in the list.\n",
    "\n",
    "        The runtime is O(1), or constant time, because indexing to the end of a\n",
    "        list happens in constant time.\n",
    "        \"\"\"\n",
    "        if self.items:\n",
    "            return self.items.pop()\n",
    "        return None\n",
    "\n",
    "    def peek(self):\n",
    "        \"\"\"Returns the last item in the list. which represents the front-most\n",
    "        item in the Queue.\n",
    "\n",
    "        The runtime is constant because we're just indexing to the last item of\n",
    "        the list and returning the value found there.\n",
    "        \"\"\"\n",
    "\n",
    "        if self.items:\n",
    "            return self.items[-1]\n",
    "        return None\n",
    "\n",
    "    def size(self):\n",
    "        \"\"\"Returns the size of the Queue, which is represent by the length of\n",
    "        the list.\n",
    "\n",
    "        The runtime is O(1), or constant time, because we're only returning the length.\"\"\"\n",
    "        return len(self.items)\n",
    "\n",
    "    def is_empty(self):\n",
    "        \"\"\"Returns a Boolean value expressing whether or not the list\n",
    "        representing the Queue is empty.\n",
    "\n",
    "        Runs in constant time, because it's only checking for equality.\n",
    "        \"\"\"\n",
    "        return self.items == []\n"
   ]
  },
  {
   "cell_type": "code",
   "execution_count": null,
   "metadata": {},
   "outputs": [],
   "source": []
  },
  {
   "cell_type": "code",
   "execution_count": null,
   "metadata": {},
   "outputs": [],
   "source": []
  },
  {
   "cell_type": "code",
   "execution_count": null,
   "metadata": {},
   "outputs": [],
   "source": []
  },
  {
   "cell_type": "code",
   "execution_count": null,
   "metadata": {},
   "outputs": [],
   "source": []
  },
  {
   "cell_type": "code",
   "execution_count": 5,
   "metadata": {},
   "outputs": [],
   "source": [
    "import random\n",
    "\n",
    "class PrintQueue:\n",
    "\n",
    "    def __init__(self):\n",
    "        self.items = []\n",
    "\n",
    "    def enqueue(self, item):\n",
    "        self.items.insert(0, item)\n",
    "\n",
    "    def dequeue(self):\n",
    "        return self.items.pop()\n",
    "\n",
    "    def is_empty():\n",
    "        return self.items == []\n",
    "\n",
    "\n",
    "class Job:\n",
    "\n",
    "    def __init__(self):\n",
    "        self.pages = random.randint(1, 11)\n",
    "\n",
    "    def print_page(self):\n",
    "        if self.pages > 0:\n",
    "            self.pages -= 1\n",
    "\n",
    "    def check_complete(self):\n",
    "        if self.pages == 0:\n",
    "            return True\n",
    "        return False\n",
    "\n",
    "\n",
    "class Printer:\n",
    "\n",
    "    def __init__(self):\n",
    "        self.current_job = None\n",
    "\n",
    "    def get_job(self, print_queue):\n",
    "        try:\n",
    "            self.current_job = print_queue.dequeue()\n",
    "        except IndexError:  # Queue is empty\n",
    "            return \"No more jobs to print.\"\n",
    "\n",
    "    def print_job(self, job):\n",
    "        while job.pages > 0:\n",
    "            job.print_page()\n",
    "\n",
    "        if job.check_complete():\n",
    "            return \"Printing complete.\"\n",
    "        else:\n",
    "            return \"An error occurred.\"\n",
    "        \n",
    "        \n"
   ]
  },
  {
   "cell_type": "code",
   "execution_count": null,
   "metadata": {},
   "outputs": [],
   "source": []
  },
  {
   "cell_type": "code",
   "execution_count": 6,
   "metadata": {},
   "outputs": [],
   "source": [
    "job1 = Job()"
   ]
  },
  {
   "cell_type": "code",
   "execution_count": 7,
   "metadata": {},
   "outputs": [],
   "source": [
    "print_q = PrintQueue()"
   ]
  },
  {
   "cell_type": "code",
   "execution_count": 8,
   "metadata": {},
   "outputs": [
    {
     "data": {
      "text/plain": [
       "<__main__.Printer at 0x1a8dd6944f0>"
      ]
     },
     "execution_count": 8,
     "metadata": {},
     "output_type": "execute_result"
    }
   ],
   "source": [
    "printer =  Printer()\n",
    "printer"
   ]
  },
  {
   "cell_type": "code",
   "execution_count": 9,
   "metadata": {},
   "outputs": [
    {
     "data": {
      "text/plain": [
       "<__main__.PrintQueue at 0x1a8dd694a90>"
      ]
     },
     "execution_count": 9,
     "metadata": {},
     "output_type": "execute_result"
    }
   ],
   "source": [
    "print_q"
   ]
  },
  {
   "cell_type": "code",
   "execution_count": 11,
   "metadata": {},
   "outputs": [],
   "source": [
    "print_q.enqueue(job1)"
   ]
  },
  {
   "cell_type": "code",
   "execution_count": 12,
   "metadata": {},
   "outputs": [
    {
     "data": {
      "text/plain": [
       "[<__main__.Job at 0x1a8dd694820>]"
      ]
     },
     "execution_count": 12,
     "metadata": {},
     "output_type": "execute_result"
    }
   ],
   "source": [
    "print_q.items"
   ]
  },
  {
   "cell_type": "code",
   "execution_count": 14,
   "metadata": {},
   "outputs": [],
   "source": [
    "printer.get_job(print_q)"
   ]
  },
  {
   "cell_type": "code",
   "execution_count": 15,
   "metadata": {},
   "outputs": [
    {
     "data": {
      "text/plain": [
       "[]"
      ]
     },
     "execution_count": 15,
     "metadata": {},
     "output_type": "execute_result"
    }
   ],
   "source": [
    "print_q.items"
   ]
  },
  {
   "cell_type": "code",
   "execution_count": null,
   "metadata": {},
   "outputs": [],
   "source": []
  },
  {
   "cell_type": "code",
   "execution_count": null,
   "metadata": {},
   "outputs": [],
   "source": []
  },
  {
   "cell_type": "code",
   "execution_count": null,
   "metadata": {},
   "outputs": [],
   "source": []
  },
  {
   "cell_type": "markdown",
   "metadata": {},
   "source": [
    "### The DEQUE"
   ]
  },
  {
   "cell_type": "code",
   "execution_count": null,
   "metadata": {},
   "outputs": [],
   "source": []
  },
  {
   "cell_type": "code",
   "execution_count": 17,
   "metadata": {},
   "outputs": [],
   "source": [
    "class Deque:\n",
    "\n",
    "    def __init__(self):\n",
    "        self.items = []\n",
    "\n",
    "    def add_front(self, item):\n",
    "        \"\"\"Takes an item as a parameter and inserts it into the 0th index\n",
    "        of the list that is representing the Deque.\n",
    "\n",
    "        The runtime is linear, or O(n), because every time you insert into the\n",
    "        front of a list, all the other items in the list need to shift one\n",
    "        position to the right.\n",
    "        \"\"\"\n",
    "\n",
    "        self.items.insert(0, item)\n",
    "\n",
    "    def add_rear(self, item):\n",
    "        \"\"\"Takes in an item as aparameter and appends that item to the end of\n",
    "        the list that is representing the Deque.\n",
    "\n",
    "        The runtime is constant because appending to the end of a list happens\n",
    "        in constant time.\n",
    "        \"\"\"\n",
    "\n",
    "        self.items.append(item)\n",
    "\n",
    "    def remove_front(self):\n",
    "        \"\"\"Removes and returns the item in the 0th index of the list, which\n",
    "        represents the front of the Deque.\n",
    "\n",
    "        The runtime is linear, or O(n), because when we remove an item from the\n",
    "        0th index, all the other items have to shift one index to the left.\n",
    "        \"\"\"\n",
    "\n",
    "        if self.items:\n",
    "            return self.items.pop(0)\n",
    "        return None\n",
    "\n",
    "    def remove_rear(self):\n",
    "        \"\"\"Removes and returns the last item of the list, which represents the\n",
    "        rear of the Deque.\n",
    "\n",
    "        The runtime is constant because all we're doing is indexing to the end\n",
    "        of a list.\n",
    "        \"\"\"\n",
    "\n",
    "        if self.items:\n",
    "            return self.items.pop()\n",
    "        return None\n",
    "\n",
    "    def peek_front(self):\n",
    "        \"\"\"Returns the value found at the 0th index of the list, which represents\n",
    "        the front of the Deque.\n",
    "\n",
    "        The runtime is constant because al we're doing is indexing into a list.\n",
    "        \"\"\"\n",
    "\n",
    "        if self.items:\n",
    "            return self.items[0]\n",
    "        return None\n",
    "\n",
    "    def peek_rear(self):\n",
    "        \"\"\"Returns the value found at the -1st, or last, index.\n",
    "\n",
    "        The runtime is constant because all we're doing is indexing into a\n",
    "        list.\"\"\"\n",
    "        if self.items:\n",
    "            return self.items[-1]\n",
    "        return None\n",
    "\n",
    "    def size(self):\n",
    "        \"\"\"Returns the length of the list, which is representing the Deque.\n",
    "\n",
    "        The runtime will be constant because all we're doing is finding the length\n",
    "        of a list and returning that value.\"\"\"\n",
    "\n",
    "        return len(self.items)\n",
    "\n",
    "    def is_empty(self):\n",
    "        \"\"\"Checks to see if the list representing our Deque is empty. Returns True\n",
    "        if it is, or False if it isn't.\n",
    "\n",
    "        The runtime is constant because all we're doing is comparing two values.\n",
    "        \"\"\"\n",
    "\n",
    "        return self.items == []\n"
   ]
  },
  {
   "cell_type": "code",
   "execution_count": null,
   "metadata": {},
   "outputs": [],
   "source": []
  },
  {
   "cell_type": "code",
   "execution_count": null,
   "metadata": {},
   "outputs": [],
   "source": []
  },
  {
   "cell_type": "code",
   "execution_count": null,
   "metadata": {},
   "outputs": [],
   "source": []
  }
 ],
 "metadata": {
  "kernelspec": {
   "display_name": "Python 3",
   "language": "python",
   "name": "python3"
  },
  "language_info": {
   "codemirror_mode": {
    "name": "ipython",
    "version": 3
   },
   "file_extension": ".py",
   "mimetype": "text/x-python",
   "name": "python",
   "nbconvert_exporter": "python",
   "pygments_lexer": "ipython3",
   "version": "3.8.3"
  }
 },
 "nbformat": 4,
 "nbformat_minor": 5
}
