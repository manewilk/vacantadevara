{
 "cells": [
  {
   "cell_type": "markdown",
   "metadata": {},
   "source": [
    "## Abstract Data Types"
   ]
  },
  {
   "cell_type": "markdown",
   "metadata": {},
   "source": [
    "* No code\n",
    "* Interaction, not implementation\n",
    "* Language agnostic"
   ]
  },
  {
   "cell_type": "code",
   "execution_count": null,
   "metadata": {},
   "outputs": [],
   "source": []
  },
  {
   "cell_type": "markdown",
   "metadata": {},
   "source": [
    "## The primary advantage of using hash tables is speed of access."
   ]
  },
  {
   "cell_type": "markdown",
   "metadata": {},
   "source": [
    "### `hash table` for speed - search insert delete!!!"
   ]
  },
  {
   "cell_type": "markdown",
   "metadata": {},
   "source": [
    "* Linear Probing\n",
    "* Separate Chaining\n",
    "* In Python `Dictionaries` and `sets`\n",
    "* Associative Array"
   ]
  },
  {
   "cell_type": "markdown",
   "metadata": {},
   "source": [
    "### Hash Function"
   ]
  },
  {
   "cell_type": "markdown",
   "metadata": {},
   "source": [
    "`Example 1`\n",
    "* h(k) = (length of the key) % 5"
   ]
  },
  {
   "cell_type": "markdown",
   "metadata": {},
   "source": [
    "hashing - data conversion process"
   ]
  },
  {
   "cell_type": "markdown",
   "metadata": {},
   "source": [
    "## Example"
   ]
  },
  {
   "cell_type": "code",
   "execution_count": 16,
   "metadata": {},
   "outputs": [],
   "source": [
    "TABLE_SIZE = 5\n",
    "\n",
    "contacts = [\n",
    "    (\"Bob\", 1234),\n",
    "    (\"Ikram\", 5678),\n",
    "    (\"Pankaj\", 9101),\n",
    "    (\"Peter\", 2134),\n",
    "    (\"Jo\", 1516),\n",
    "    (\"Maria\", 1718),\n",
    "]\n"
   ]
  },
  {
   "cell_type": "code",
   "execution_count": 2,
   "metadata": {},
   "outputs": [],
   "source": [
    "def my_hash_function(key):\n",
    "    return len(key) % TABLE_SIZE  # There are many possible hash functions."
   ]
  },
  {
   "cell_type": "code",
   "execution_count": 17,
   "metadata": {},
   "outputs": [],
   "source": [
    "def insert(contact, hash_table):\n",
    "    if None not in hash_table:\n",
    "        print(\"Hash table is full.\")\n",
    "        return\n",
    "    index = my_hash_function(contact[0])  # contact[0] is the key.\n",
    "    print(f\"Hash value of key is {index}\")\n",
    "    while hash_table[index] is not None:\n",
    "        index += 1\n",
    "        if index >= TABLE_SIZE:\n",
    "            index = 0\n",
    "    print(f\"Inserting {contact} at index {index}.\")\n",
    "    hash_table[index] = contact\n",
    "\n",
    "\n",
    "def lookup(search_key, hash_table):\n",
    "    index = my_hash_function(search_key)\n",
    "    mark = index  # Keep track of where we started to avoid infinite loop.\n",
    "    while hash_table[index] and hash_table[index][0] != search_key:\n",
    "        index += 1\n",
    "        if index >= TABLE_SIZE:\n",
    "            index = 0\n",
    "        if index == mark:\n",
    "            return None\n",
    "    if hash_table[index] is not None:\n",
    "        return hash_table[index]"
   ]
  },
  {
   "cell_type": "code",
   "execution_count": 18,
   "metadata": {},
   "outputs": [],
   "source": [
    "my_hash_table = [None] * TABLE_SIZE"
   ]
  },
  {
   "cell_type": "code",
   "execution_count": 19,
   "metadata": {},
   "outputs": [
    {
     "data": {
      "text/plain": [
       "[None, None, None, None, None]"
      ]
     },
     "execution_count": 19,
     "metadata": {},
     "output_type": "execute_result"
    }
   ],
   "source": [
    "my_hash_table"
   ]
  },
  {
   "cell_type": "code",
   "execution_count": 13,
   "metadata": {},
   "outputs": [
    {
     "name": "stdout",
     "output_type": "stream",
     "text": [
      "Hash value of key is 3\n",
      "Inserting ('Bob', 1234) at index 3.\n"
     ]
    }
   ],
   "source": [
    "#insert(contacts[0], my_hash_table)"
   ]
  },
  {
   "cell_type": "code",
   "execution_count": 14,
   "metadata": {},
   "outputs": [
    {
     "data": {
      "text/plain": [
       "[None, None, None, ('Bob', 1234), None]"
      ]
     },
     "execution_count": 14,
     "metadata": {},
     "output_type": "execute_result"
    }
   ],
   "source": [
    "my_hash_table"
   ]
  },
  {
   "cell_type": "code",
   "execution_count": null,
   "metadata": {},
   "outputs": [],
   "source": []
  },
  {
   "cell_type": "code",
   "execution_count": 20,
   "metadata": {},
   "outputs": [
    {
     "name": "stdout",
     "output_type": "stream",
     "text": [
      "Hash value of key is 3\n",
      "Inserting ('Bob', 1234) at index 3.\n",
      "[None, None, None, ('Bob', 1234), None]\n",
      "\n",
      "Hash value of key is 0\n",
      "Inserting ('Ikram', 5678) at index 0.\n",
      "[('Ikram', 5678), None, None, ('Bob', 1234), None]\n",
      "\n",
      "Hash value of key is 1\n",
      "Inserting ('Pankaj', 9101) at index 1.\n",
      "[('Ikram', 5678), ('Pankaj', 9101), None, ('Bob', 1234), None]\n",
      "\n",
      "Hash value of key is 0\n",
      "Inserting ('Peter', 2134) at index 2.\n",
      "[('Ikram', 5678), ('Pankaj', 9101), ('Peter', 2134), ('Bob', 1234), None]\n",
      "\n",
      "Hash value of key is 2\n",
      "Inserting ('Jo', 1516) at index 4.\n",
      "[('Ikram', 5678), ('Pankaj', 9101), ('Peter', 2134), ('Bob', 1234), ('Jo', 1516)]\n",
      "\n",
      "Hash table is full.\n",
      "[('Ikram', 5678), ('Pankaj', 9101), ('Peter', 2134), ('Bob', 1234), ('Jo', 1516)]\n",
      "\n"
     ]
    }
   ],
   "source": [
    "# Add some contacts\n",
    "for contact in contacts:\n",
    "    insert(contact, my_hash_table)\n",
    "    print(my_hash_table)\n",
    "    # input(\"Press Enter to continue.\")\n",
    "    print()"
   ]
  },
  {
   "cell_type": "code",
   "execution_count": 21,
   "metadata": {},
   "outputs": [
    {
     "name": "stdout",
     "output_type": "stream",
     "text": [
      "Search results:\n",
      "None\n",
      "('Pankaj', 9101)\n",
      "('Jo', 1516)\n"
     ]
    }
   ],
   "source": [
    "print(\"Search results:\")\n",
    "print(lookup(\"Pam\", my_hash_table))\n",
    "print(lookup(\"Pankaj\", my_hash_table))\n",
    "print(lookup(\"Jo\", my_hash_table))"
   ]
  },
  {
   "cell_type": "markdown",
   "metadata": {},
   "source": [
    "## Ransom Note"
   ]
  },
  {
   "cell_type": "code",
   "execution_count": 11,
   "metadata": {},
   "outputs": [],
   "source": [
    "def ransom_note(magazine, note):\n",
    "    mag_words = {}\n",
    "    for word in magazine:\n",
    "        if word in mag_words:\n",
    "            mag_words[word] += 1\n",
    "        else:\n",
    "            mag_words[word] = 1\n",
    "    for word in note:\n",
    "        if mag_words.get(word, 0) < 1:\n",
    "            return False\n",
    "        else:\n",
    "            mag_words[word] -= 1\n",
    "    return True\n",
    "\n",
    "\n",
    "# # This criminal has no regard for punctuation\n",
    "magazine = \"give me one grand today night\".split()\n",
    "note = \"give one grand today\".split()\n",
    "assert ransom_note(magazine, note) is True\n",
    "\n",
    "magazine = \"two times three is not four\".split()\n",
    "note = \"two times two is four\".split()\n",
    "assert ransom_note(magazine, note) is False"
   ]
  },
  {
   "cell_type": "code",
   "execution_count": 12,
   "metadata": {},
   "outputs": [],
   "source": [
    "from collections import Counter\n",
    "\n",
    "\n",
    "def ransom_note(magazine, note):\n",
    "    mag_counter = Counter(magazine)\n",
    "    note_counter = Counter(note)\n",
    "    # intersection operator &. This returns the minimum of corresponding counts.\n",
    "    return mag_counter & note_counter == note_counter\n",
    "\n",
    "\n",
    "# # This criminal has no regard for punctuation\n",
    "magazine = \"give me one grand today night\".split()\n",
    "note = \"give one grand today\".split()\n",
    "assert ransom_note(magazine, note) is True\n",
    "\n",
    "magazine = \"two times three is not four\".split()\n",
    "note = \"two times two is four\".split()\n",
    "assert ransom_note(magazine, note) is False"
   ]
  },
  {
   "cell_type": "markdown",
   "metadata": {},
   "source": [
    "### https://www.geeksforgeeks.org/difference-between-and-and-in-python/"
   ]
  },
  {
   "cell_type": "markdown",
   "metadata": {},
   "source": [
    "### Hash table-based solutions are often implemented in Python via dictionaries."
   ]
  },
  {
   "cell_type": "markdown",
   "metadata": {},
   "source": [
    "## With linear probing, if the key hashes to an occupied slot, what should you do? \n",
    "### `Use the next available slot.`"
   ]
  },
  {
   "cell_type": "markdown",
   "metadata": {},
   "source": [
    "### `LeetCode` `HackerRank` `Codewars`"
   ]
  },
  {
   "cell_type": "code",
   "execution_count": null,
   "metadata": {},
   "outputs": [],
   "source": []
  },
  {
   "cell_type": "code",
   "execution_count": 33,
   "metadata": {},
   "outputs": [],
   "source": [
    "h_contacts = {\n",
    "    \"Bob\":189086908,\n",
    "    \"Bob\":1234,\n",
    "    \"Ikram\": 5678,\n",
    "    \"Pankaj\": 9101,\n",
    "    \"Peter\": 2134,\n",
    "    \"Jo\": 1516,\n",
    "    \"Maria\": 1718\n",
    "}"
   ]
  },
  {
   "cell_type": "code",
   "execution_count": 34,
   "metadata": {},
   "outputs": [
    {
     "data": {
      "text/plain": [
       "{'Bob': 1234,\n",
       " 'Ikram': 5678,\n",
       " 'Pankaj': 9101,\n",
       " 'Peter': 2134,\n",
       " 'Jo': 1516,\n",
       " 'Maria': 1718}"
      ]
     },
     "execution_count": 34,
     "metadata": {},
     "output_type": "execute_result"
    }
   ],
   "source": [
    "h_contacts "
   ]
  },
  {
   "cell_type": "code",
   "execution_count": 24,
   "metadata": {},
   "outputs": [
    {
     "data": {
      "text/plain": [
       "dict"
      ]
     },
     "execution_count": 24,
     "metadata": {},
     "output_type": "execute_result"
    }
   ],
   "source": [
    "type(h_contacts )"
   ]
  },
  {
   "cell_type": "code",
   "execution_count": 26,
   "metadata": {},
   "outputs": [
    {
     "data": {
      "text/plain": [
       "1234"
      ]
     },
     "execution_count": 26,
     "metadata": {},
     "output_type": "execute_result"
    }
   ],
   "source": [
    "h_contacts[\"Bob\"]"
   ]
  },
  {
   "cell_type": "code",
   "execution_count": 35,
   "metadata": {},
   "outputs": [],
   "source": [
    "s_contacts = (\n",
    "    (\"Bob\", 1234),\n",
    "    (\"Ikram\", 5678),\n",
    "    (\"Pankaj\", 9101),\n",
    "    (\"Peter\", 2134),\n",
    "    (\"Jo\", 1516),\n",
    "    (\"Maria\", 1718),\n",
    ")"
   ]
  },
  {
   "cell_type": "code",
   "execution_count": null,
   "metadata": {},
   "outputs": [],
   "source": []
  },
  {
   "cell_type": "code",
   "execution_count": null,
   "metadata": {},
   "outputs": [],
   "source": []
  },
  {
   "cell_type": "code",
   "execution_count": null,
   "metadata": {},
   "outputs": [],
   "source": []
  },
  {
   "cell_type": "code",
   "execution_count": 39,
   "metadata": {},
   "outputs": [
    {
     "data": {
      "text/plain": [
       "'f9e012396be65db022bd11de9308a9b40e04e492cc4ee8636c09fb83df4aa27b'"
      ]
     },
     "execution_count": 39,
     "metadata": {},
     "output_type": "execute_result"
    }
   ],
   "source": [
    "import hashlib\n",
    "h = hashlib.new('sha256')\n",
    "h.update(b\"ll\")\n",
    "h.hexdigest()"
   ]
  },
  {
   "cell_type": "code",
   "execution_count": null,
   "metadata": {},
   "outputs": [],
   "source": []
  }
 ],
 "metadata": {
  "kernelspec": {
   "display_name": "Python 3",
   "language": "python",
   "name": "python3"
  },
  "language_info": {
   "codemirror_mode": {
    "name": "ipython",
    "version": 3
   },
   "file_extension": ".py",
   "mimetype": "text/x-python",
   "name": "python",
   "nbconvert_exporter": "python",
   "pygments_lexer": "ipython3",
   "version": "3.8.3"
  }
 },
 "nbformat": 4,
 "nbformat_minor": 5
}
