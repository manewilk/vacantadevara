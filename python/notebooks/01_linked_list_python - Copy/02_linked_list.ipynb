{
 "cells": [
  {
   "cell_type": "markdown",
   "metadata": {},
   "source": [
    "#### `Abstract data type` - no code, language agnostic, no implementation, just interaction\n",
    "#### `DS` - data structures - abstraction"
   ]
  },
  {
   "cell_type": "code",
   "execution_count": 8,
   "metadata": {},
   "outputs": [
    {
     "name": "stdout",
     "output_type": "stream",
     "text": [
      "{'dictionar': 'ABC'}\n",
      "ABC\n"
     ]
    }
   ],
   "source": [
    "my_list = [1, 'cuvant', 'mar', {\"dictionar\":\"ABC\"}]\n",
    "\n",
    "\n",
    "print(my_list[-1])\n",
    "\n",
    "\n",
    "print(my_list[-1]['dictionar'])"
   ]
  },
  {
   "cell_type": "code",
   "execution_count": null,
   "metadata": {},
   "outputs": [],
   "source": []
  },
  {
   "cell_type": "code",
   "execution_count": null,
   "metadata": {},
   "outputs": [],
   "source": []
  }
 ],
 "metadata": {
  "kernelspec": {
   "display_name": "Python 3",
   "language": "python",
   "name": "python3"
  },
  "language_info": {
   "codemirror_mode": {
    "name": "ipython",
    "version": 3
   },
   "file_extension": ".py",
   "mimetype": "text/x-python",
   "name": "python",
   "nbconvert_exporter": "python",
   "pygments_lexer": "ipython3",
   "version": "3.8.3"
  }
 },
 "nbformat": 4,
 "nbformat_minor": 5
}
