{
 "cells": [
  {
   "cell_type": "code",
   "execution_count": null,
   "metadata": {},
   "outputs": [],
   "source": []
  },
  {
   "cell_type": "code",
   "execution_count": null,
   "metadata": {},
   "outputs": [],
   "source": []
  },
  {
   "cell_type": "code",
   "execution_count": null,
   "metadata": {},
   "outputs": [],
   "source": []
  },
  {
   "cell_type": "markdown",
   "metadata": {},
   "source": [
    "##  Searching a Tree - Binary Search Tree"
   ]
  },
  {
   "cell_type": "code",
   "execution_count": 1,
   "metadata": {},
   "outputs": [
    {
     "data": {
      "text/html": [
       "<img src=\"images/searching_a_tree.png\" width=\"550\"/>"
      ],
      "text/plain": [
       "<IPython.core.display.Image object>"
      ]
     },
     "execution_count": 1,
     "metadata": {},
     "output_type": "execute_result"
    }
   ],
   "source": [
    "from IPython.display import Image\n",
    "# get the image\n",
    "Image(url=\"images/searching_a_tree.png\", width=550)"
   ]
  },
  {
   "cell_type": "code",
   "execution_count": 2,
   "metadata": {},
   "outputs": [],
   "source": [
    "class Node:\n",
    "    def __init__(self, data):\n",
    "        self.data = data\n",
    "        self.left = None\n",
    "        self.right = None\n",
    "\n",
    "    def search(self, target):\n",
    "        if self.data == target:\n",
    "            print(\"Found it!\")\n",
    "            return self\n",
    "        \n",
    "        if self.left and self.data > target:\n",
    "            return self.left.search(target)\n",
    "\n",
    "        if self.right and self.data < target:\n",
    "            return self.right.search(target)\n",
    "\n",
    "        print(\"Value is not in tree\")"
   ]
  },
  {
   "cell_type": "code",
   "execution_count": 3,
   "metadata": {},
   "outputs": [],
   "source": [
    "class Tree:  ## Wrapper Class\n",
    "    def __init__(self, root, name=''):\n",
    "        self.root = root\n",
    "        self.name = name\n",
    "\n",
    "    def search(self, target):             ## Convenience Function\n",
    "        return self.root.search(target)"
   ]
  },
  {
   "cell_type": "code",
   "execution_count": null,
   "metadata": {},
   "outputs": [],
   "source": []
  },
  {
   "cell_type": "code",
   "execution_count": 12,
   "metadata": {},
   "outputs": [],
   "source": [
    "node = Node(10)\n",
    "\n",
    "node.left = Node(5)\n",
    "node.right = Node(15)\n",
    "\n",
    "node.left.left = Node(2)\n",
    "node.left.right = Node(6)\n",
    "\n",
    "node.right.left = Node(13)\n",
    "node.right.right = Node(16)"
   ]
  },
  {
   "cell_type": "code",
   "execution_count": 13,
   "metadata": {},
   "outputs": [
    {
     "name": "stdout",
     "output_type": "stream",
     "text": [
      "Found it!\n",
      "---->  16\n"
     ]
    }
   ],
   "source": [
    "\n",
    "myTree = Tree(node, 'My Tree')\n",
    "\n",
    "found = myTree.search(16)\n",
    "\n",
    "\n",
    "print(\"----> \", found.data)"
   ]
  },
  {
   "cell_type": "code",
   "execution_count": null,
   "metadata": {},
   "outputs": [],
   "source": []
  },
  {
   "cell_type": "markdown",
   "metadata": {},
   "source": [
    "#### Visit any node of the tree?"
   ]
  },
  {
   "cell_type": "markdown",
   "metadata": {},
   "source": [
    "## Traversing a Tree\n",
    "\n",
    "* `PRE-ORDER`\n",
    "* `IN-ORDER`\n",
    "* `POST-ORDER`\n"
   ]
  },
  {
   "cell_type": "code",
   "execution_count": 14,
   "metadata": {},
   "outputs": [
    {
     "data": {
      "text/html": [
       "<img src=\"images/traversing_a_tree.png\" width=\"650\"/>"
      ],
      "text/plain": [
       "<IPython.core.display.Image object>"
      ]
     },
     "execution_count": 14,
     "metadata": {},
     "output_type": "execute_result"
    }
   ],
   "source": [
    "from IPython.display import Image\n",
    "# get the image\n",
    "Image(url=\"images/traversing_a_tree.png\", width=650)"
   ]
  },
  {
   "cell_type": "code",
   "execution_count": 20,
   "metadata": {},
   "outputs": [],
   "source": [
    "import time\n",
    "\n",
    "class Node:\n",
    "    def __init__(self, data):\n",
    "        self.data = data\n",
    "        self.left = None\n",
    "        self.right = None\n",
    "\n",
    "    def search(self, target):\n",
    "        if self.data == target:\n",
    "            print(\"Found it!\")\n",
    "            return self\n",
    "        \n",
    "        if self.left and self.data > target:\n",
    "            return self.left.search(target)\n",
    "\n",
    "        if self.right and self.data < target:\n",
    "            return self.right.search(target)\n",
    "\n",
    "        print(\"Value is not in tree\")\n",
    "\n",
    "    def traversePreorder(self):\n",
    "        time.sleep(1)\n",
    "        print(self.data)\n",
    "        if self.left:\n",
    "            self.left.traversePreorder()\n",
    "        if self.right:\n",
    "            self.right.traversePreorder()\n",
    "\n",
    "    def traverseInorder(self):\n",
    "        if self.left:\n",
    "            self.left.traverseInorder()\n",
    "        print(self.data)\n",
    "        if self.right:\n",
    "            self.right.traverseInorder()\n",
    "\n",
    "    def traversePostorder(self):\n",
    "        if self.left:\n",
    "            self.left.traversePostorder()\n",
    "        if self.right:\n",
    "            self.right.traversePostorder()\n",
    "        print(self.data)\n",
    "\n",
    "class Tree:\n",
    "    def __init__(self, root, name=''):\n",
    "        self.root = root\n",
    "        self.name = name\n",
    "\n",
    "    def search(self, target):\n",
    "        return self.root.search(target)\n",
    "    \n",
    "    def traversePreorder(self):\n",
    "        self.root.traversePreorder()\n",
    "    \n",
    "    def traverseInorder(self):\n",
    "        self.root.traverseInorder()\n",
    "        \n",
    "    def traversePostorder(self):\n",
    "        self.root.traversePostorder()"
   ]
  },
  {
   "cell_type": "code",
   "execution_count": null,
   "metadata": {},
   "outputs": [],
   "source": []
  },
  {
   "cell_type": "code",
   "execution_count": 21,
   "metadata": {},
   "outputs": [],
   "source": [
    "tree = Tree(Node(50), 'Tree Traversals')\n",
    "tree.root.left = Node(25)\n",
    "tree.root.right = Node(75)\n",
    "tree.root.left.left = Node(10)\n",
    "tree.root.left.right = Node(35)\n",
    "tree.root.left.right.left = Node(30)\n",
    "tree.root.left.right.right = Node(42)\n",
    "tree.root.left.left.left = Node(5)\n",
    "tree.root.left.left.right = Node(13)"
   ]
  },
  {
   "cell_type": "code",
   "execution_count": 22,
   "metadata": {},
   "outputs": [
    {
     "name": "stdout",
     "output_type": "stream",
     "text": [
      "Traverse Pre-Order\n",
      "50\n",
      "25\n",
      "10\n",
      "5\n",
      "13\n",
      "35\n",
      "30\n",
      "42\n",
      "75\n"
     ]
    }
   ],
   "source": [
    "print(\"Traverse Pre-Order\")\n",
    "tree.traversePreorder()"
   ]
  },
  {
   "cell_type": "code",
   "execution_count": 18,
   "metadata": {},
   "outputs": [
    {
     "name": "stdout",
     "output_type": "stream",
     "text": [
      "Traverse In-Order\n",
      "5\n",
      "10\n",
      "13\n",
      "25\n",
      "30\n",
      "35\n",
      "42\n",
      "50\n",
      "75\n"
     ]
    }
   ],
   "source": [
    "print(\"Traverse In-Order\")\n",
    "tree.traverseInorder()"
   ]
  },
  {
   "cell_type": "code",
   "execution_count": 19,
   "metadata": {},
   "outputs": [
    {
     "name": "stdout",
     "output_type": "stream",
     "text": [
      "Traverse Post-Order\n",
      "5\n",
      "13\n",
      "10\n",
      "30\n",
      "42\n",
      "35\n",
      "25\n",
      "75\n",
      "50\n"
     ]
    }
   ],
   "source": [
    "print(\"Traverse Post-Order\")\n",
    "tree.traversePostorder()"
   ]
  },
  {
   "cell_type": "code",
   "execution_count": null,
   "metadata": {},
   "outputs": [],
   "source": []
  },
  {
   "cell_type": "code",
   "execution_count": null,
   "metadata": {},
   "outputs": [],
   "source": []
  },
  {
   "cell_type": "markdown",
   "metadata": {},
   "source": []
  },
  {
   "cell_type": "markdown",
   "metadata": {},
   "source": [
    "## Getting the Maximum height of a Tree"
   ]
  },
  {
   "cell_type": "code",
   "execution_count": 79,
   "metadata": {},
   "outputs": [
    {
     "data": {
      "text/html": [
       "<img src=\"images/maximum_height_tree.png\" width=\"550\"/>"
      ],
      "text/plain": [
       "<IPython.core.display.Image object>"
      ]
     },
     "execution_count": 79,
     "metadata": {},
     "output_type": "execute_result"
    }
   ],
   "source": [
    "from IPython.display import Image\n",
    "# get the image\n",
    "Image(url=\"images/maximum_height_tree.png\", width=550)"
   ]
  },
  {
   "cell_type": "code",
   "execution_count": 26,
   "metadata": {},
   "outputs": [],
   "source": [
    "class Node:\n",
    "    def __init__(self, data):\n",
    "        self.data = data\n",
    "        self.left = None\n",
    "        self.right = None\n",
    "\n",
    "    def search(self, target):\n",
    "        if self.data == target:\n",
    "            print(\"Found it!\")\n",
    "            return self\n",
    "        \n",
    "        if self.left and self.data > target:\n",
    "            return self.left.search(target)\n",
    "\n",
    "        if self.right and self.data < target:\n",
    "            return self.right.search(target)\n",
    "\n",
    "        print(\"Value is not in tree\")\n",
    "\n",
    "    def height(self, h=0):\n",
    "        leftHeight = self.left.height(h+1) if self.left else h \n",
    "        rightHeight = self.right.height(h+1) if self.right else h\n",
    "        return max(leftHeight, rightHeight)\n",
    "\n",
    "class Tree:\n",
    "    def __init__(self, root, name=''):\n",
    "        self.root = root\n",
    "        self.name = name\n",
    "\n",
    "    def search(self, target):\n",
    "        return self.root.search(target)\n",
    "\n",
    "    def height(self):\n",
    "        return self.root.height()"
   ]
  },
  {
   "cell_type": "code",
   "execution_count": 28,
   "metadata": {},
   "outputs": [
    {
     "name": "stdout",
     "output_type": "stream",
     "text": [
      "1\n"
     ]
    }
   ],
   "source": [
    "tree = Tree(Node(50), 'A Very Tall Tree')\n",
    "tree.root.left = Node(25)\n",
    "tree.root.right = Node(75)\n",
    "tree.root.left.left = Node(10)\n",
    "tree.root.left.right = Node(35)\n",
    "tree.root.left.right.left = Node(30)\n",
    "tree.root.left.right.right = Node(42)\n",
    "tree.root.left.left.left = Node(5)\n",
    "tree.root.left.left.right = Node(13)\n",
    "tree.root.left.left.left.left = Node(2)\n",
    "\n",
    "print(tree.height())"
   ]
  },
  {
   "cell_type": "code",
   "execution_count": 29,
   "metadata": {},
   "outputs": [
    {
     "name": "stdout",
     "output_type": "stream",
     "text": [
      "0\n"
     ]
    }
   ],
   "source": [
    "tree = Tree(Node(50), 'A Very Short Tree')\n",
    "print(tree.height())"
   ]
  },
  {
   "cell_type": "code",
   "execution_count": null,
   "metadata": {},
   "outputs": [],
   "source": []
  },
  {
   "cell_type": "code",
   "execution_count": null,
   "metadata": {},
   "outputs": [],
   "source": []
  },
  {
   "cell_type": "code",
   "execution_count": null,
   "metadata": {},
   "outputs": [],
   "source": []
  },
  {
   "cell_type": "markdown",
   "metadata": {},
   "source": [
    "## Printing a Tree\n",
    "* and `ASCII ART` ..."
   ]
  },
  {
   "cell_type": "code",
   "execution_count": 30,
   "metadata": {},
   "outputs": [],
   "source": [
    "class Node:\n",
    "    def __init__(self, data):\n",
    "        self.data = data\n",
    "        self.left = None\n",
    "        self.right = None\n",
    "\n",
    "    def traversePreorder(self):\n",
    "        print(self.data)\n",
    "        if self.left:\n",
    "            self.left.traversePreorder()\n",
    "        if self.right:\n",
    "            self.right.traversePreorder()\n",
    "\n",
    "    def traverseInorder(self):\n",
    "        if self.left:\n",
    "            self.left.traverseInorder()\n",
    "        print(self.data)\n",
    "        if self.right:\n",
    "            self.right.traverseInorder()\n",
    "\n",
    "    def traversePostorder(self):\n",
    "        if self.left:\n",
    "            self.left.traversePostorder()\n",
    "        if self.right:\n",
    "            self.right.traversePostorder()\n",
    "        print(self.data)\n",
    "\n",
    "    def search(self, target):\n",
    "        if self.data == target:\n",
    "            print(\"Found it!\")\n",
    "            return self\n",
    "        \n",
    "        if self.left and self.data > target:\n",
    "            return self.left.search(target)\n",
    "\n",
    "        if self.right and self.data < target:\n",
    "            return self.right.search(target)\n",
    "\n",
    "        print(\"Value is not in tree\")\n",
    "\n",
    "\n",
    "    def getNodesAtDepth(self, depth, nodes=[]):\n",
    "        if depth == 0:\n",
    "            nodes.append(self.data)\n",
    "            return nodes\n",
    "\n",
    "        if self.left:\n",
    "            self.left.getNodesAtDepth(depth-1, nodes)\n",
    "        else:\n",
    "            nodes.extend([None]*2**(depth-1))\n",
    "        \n",
    "        if self.right:\n",
    "            self.right.getNodesAtDepth(depth-1, nodes)\n",
    "        else:\n",
    "            nodes.extend([None]*2**(depth-1))\n",
    "        return nodes\n",
    "\n",
    "    def height(self, h=0):\n",
    "        leftHeight = self.left.height(h+1) if self.left else h \n",
    "        rightHeight = self.right.height(h+1) if self.right else h\n",
    "        return max(leftHeight, rightHeight)"
   ]
  },
  {
   "cell_type": "code",
   "execution_count": 31,
   "metadata": {},
   "outputs": [],
   "source": [
    "import time\n",
    "\n",
    "class Tree:\n",
    "    def __init__(self, root, name=''):\n",
    "        self.root = root\n",
    "        self.name = name\n",
    "\n",
    "    def _nodeToChar(self, n, spacing):\n",
    "        if n is None:\n",
    "            return '_'+(' '*spacing)\n",
    "        spacing = spacing-len(str(n))+1\n",
    "        return str(n)+(' '*spacing)\n",
    "\n",
    "    def print(self, label=''):\n",
    "        time.sleep(1)\n",
    "        print(self.name+' '+label)\n",
    "        height = self.root.height()\n",
    "        spacing = 3\n",
    "        width = int((2**height-1) * (spacing+1) + 1)\n",
    "        # Root offset\n",
    "        offset = int((width-1)/2)\n",
    "        for depth in range(0, height+1):\n",
    "            if depth > 0:\n",
    "                # print directional lines\n",
    "                time.sleep(1)\n",
    "                print(' '*(offset+1)  + (' '*(spacing+2)).join(['/' + (' '*(spacing-2)) + '\\\\']*(2**(depth-1))))\n",
    "            row = self.root.getNodesAtDepth(depth, [])\n",
    "            time.sleep(1)\n",
    "            print((' '*offset)+''.join([self._nodeToChar(n, spacing) for n in row]))\n",
    "            spacing = offset+1\n",
    "            offset = int(offset/2) - 1\n",
    "        time.sleep(1)\n",
    "        print('')\n",
    "\n",
    "    def traverseInorder(self):\n",
    "        self.root.traverseInorder()\n",
    "\n",
    "    def traversePreorder(self):\n",
    "        self.root.traversePreorder()\n",
    "\n",
    "    def traversePostorder(self):\n",
    "        self.root.traversePostorder()\n",
    "\n",
    "    def search(self, target):\n",
    "        return self.root.search(target)\n",
    "\n",
    "    def getNodesAtDepth(self, depth):\n",
    "        return self.root.getNodesAtDepth(depth)\n",
    "\n",
    "    def height(self):\n",
    "        return self.root.height()\n"
   ]
  },
  {
   "cell_type": "code",
   "execution_count": 32,
   "metadata": {},
   "outputs": [
    {
     "name": "stdout",
     "output_type": "stream",
     "text": [
      " \n",
      "      50  \n",
      "   /     \\\n",
      "  25      75      \n",
      " / \\     / \\\n",
      "10  35  _   _   \n",
      "\n"
     ]
    }
   ],
   "source": [
    "tree = Tree(Node(50))\n",
    "tree.root.left = Node(25)\n",
    "tree.root.right = Node(75)\n",
    "tree.root.left.left = Node(10)\n",
    "tree.root.left.right = Node(35)\n",
    "\n",
    "tree.print()"
   ]
  },
  {
   "cell_type": "code",
   "execution_count": null,
   "metadata": {},
   "outputs": [],
   "source": []
  }
 ],
 "metadata": {
  "kernelspec": {
   "display_name": "Python 3",
   "language": "python",
   "name": "python3"
  },
  "language_info": {
   "codemirror_mode": {
    "name": "ipython",
    "version": 3
   },
   "file_extension": ".py",
   "mimetype": "text/x-python",
   "name": "python",
   "nbconvert_exporter": "python",
   "pygments_lexer": "ipython3",
   "version": "3.8.3"
  }
 },
 "nbformat": 4,
 "nbformat_minor": 5
}
